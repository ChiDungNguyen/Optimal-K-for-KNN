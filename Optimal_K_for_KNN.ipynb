{
 "cells": [
  {
   "cell_type": "code",
   "execution_count": 1,
   "metadata": {},
   "outputs": [],
   "source": [
    "# Import pandas package and load data form https://www.kaggle.com/uciml/pima-indians-diabetes-database#diabetes.csv: \n",
    "import pandas as pd\n",
    "d = pd.read_csv(\"E:\\PythonLearning\\diabetes.csv\")"
   ]
  },
  {
   "cell_type": "code",
   "execution_count": 2,
   "metadata": {},
   "outputs": [
    {
     "data": {
      "text/html": [
       "<div>\n",
       "<style scoped>\n",
       "    .dataframe tbody tr th:only-of-type {\n",
       "        vertical-align: middle;\n",
       "    }\n",
       "\n",
       "    .dataframe tbody tr th {\n",
       "        vertical-align: top;\n",
       "    }\n",
       "\n",
       "    .dataframe thead th {\n",
       "        text-align: right;\n",
       "    }\n",
       "</style>\n",
       "<table border=\"1\" class=\"dataframe\">\n",
       "  <thead>\n",
       "    <tr style=\"text-align: right;\">\n",
       "      <th></th>\n",
       "      <th>Pregnancies</th>\n",
       "      <th>Glucose</th>\n",
       "      <th>BloodPressure</th>\n",
       "      <th>SkinThickness</th>\n",
       "      <th>Insulin</th>\n",
       "      <th>BMI</th>\n",
       "      <th>DiabetesPedigreeFunction</th>\n",
       "      <th>Age</th>\n",
       "      <th>Outcome</th>\n",
       "    </tr>\n",
       "  </thead>\n",
       "  <tbody>\n",
       "    <tr>\n",
       "      <th>0</th>\n",
       "      <td>6</td>\n",
       "      <td>148</td>\n",
       "      <td>72</td>\n",
       "      <td>35</td>\n",
       "      <td>0</td>\n",
       "      <td>33.6</td>\n",
       "      <td>0.627</td>\n",
       "      <td>50</td>\n",
       "      <td>1</td>\n",
       "    </tr>\n",
       "    <tr>\n",
       "      <th>1</th>\n",
       "      <td>1</td>\n",
       "      <td>85</td>\n",
       "      <td>66</td>\n",
       "      <td>29</td>\n",
       "      <td>0</td>\n",
       "      <td>26.6</td>\n",
       "      <td>0.351</td>\n",
       "      <td>31</td>\n",
       "      <td>0</td>\n",
       "    </tr>\n",
       "    <tr>\n",
       "      <th>2</th>\n",
       "      <td>8</td>\n",
       "      <td>183</td>\n",
       "      <td>64</td>\n",
       "      <td>0</td>\n",
       "      <td>0</td>\n",
       "      <td>23.3</td>\n",
       "      <td>0.672</td>\n",
       "      <td>32</td>\n",
       "      <td>1</td>\n",
       "    </tr>\n",
       "    <tr>\n",
       "      <th>3</th>\n",
       "      <td>1</td>\n",
       "      <td>89</td>\n",
       "      <td>66</td>\n",
       "      <td>23</td>\n",
       "      <td>94</td>\n",
       "      <td>28.1</td>\n",
       "      <td>0.167</td>\n",
       "      <td>21</td>\n",
       "      <td>0</td>\n",
       "    </tr>\n",
       "    <tr>\n",
       "      <th>4</th>\n",
       "      <td>0</td>\n",
       "      <td>137</td>\n",
       "      <td>40</td>\n",
       "      <td>35</td>\n",
       "      <td>168</td>\n",
       "      <td>43.1</td>\n",
       "      <td>2.288</td>\n",
       "      <td>33</td>\n",
       "      <td>1</td>\n",
       "    </tr>\n",
       "  </tbody>\n",
       "</table>\n",
       "</div>"
      ],
      "text/plain": [
       "   Pregnancies  Glucose  BloodPressure  SkinThickness  Insulin   BMI  \\\n",
       "0            6      148             72             35        0  33.6   \n",
       "1            1       85             66             29        0  26.6   \n",
       "2            8      183             64              0        0  23.3   \n",
       "3            1       89             66             23       94  28.1   \n",
       "4            0      137             40             35      168  43.1   \n",
       "\n",
       "   DiabetesPedigreeFunction  Age  Outcome  \n",
       "0                     0.627   50        1  \n",
       "1                     0.351   31        0  \n",
       "2                     0.672   32        1  \n",
       "3                     0.167   21        0  \n",
       "4                     2.288   33        1  "
      ]
     },
     "execution_count": 2,
     "metadata": {},
     "output_type": "execute_result"
    }
   ],
   "source": [
    "# Inspect our data: \n",
    "d.head()"
   ]
  },
  {
   "cell_type": "code",
   "execution_count": 3,
   "metadata": {},
   "outputs": [],
   "source": [
    "# Drop Pregnancies and Outcome column: \n",
    "d1 = d.drop([\"Pregnancies\", \"Outcome\"], axis = 1)"
   ]
  },
  {
   "cell_type": "code",
   "execution_count": 4,
   "metadata": {},
   "outputs": [],
   "source": [
    "# Convert zeros to NA values: \n",
    "import numpy as np\n",
    "d1 = d1.replace(0, np.nan)"
   ]
  },
  {
   "cell_type": "code",
   "execution_count": 5,
   "metadata": {},
   "outputs": [],
   "source": [
    "# Replace NA values by mean: \n",
    "d1 = d1.fillna(d1.mean())"
   ]
  },
  {
   "cell_type": "code",
   "execution_count": 6,
   "metadata": {},
   "outputs": [],
   "source": [
    "# Add Pregnancies column: \n",
    "df = d1.assign(Pregnancies = d[\"Pregnancies\"])"
   ]
  },
  {
   "cell_type": "code",
   "execution_count": 7,
   "metadata": {},
   "outputs": [],
   "source": [
    "# Write a function for normalizing 0 - 1 data: \n",
    "def normalize_01(data):\n",
    "    nho_nhat = data.min()\n",
    "    lon_nhat = data.max(0)\n",
    "    scaled = (data - nho_nhat) / (lon_nhat - nho_nhat)\n",
    "    return scaled"
   ]
  },
  {
   "cell_type": "code",
   "execution_count": 8,
   "metadata": {},
   "outputs": [],
   "source": [
    "# Apply this function for our data: \n",
    "df = df[[\"Pregnancies\", \"Glucose\", \"BloodPressure\", \"SkinThickness\", \n",
    "        \"Insulin\", \"BMI\", \"DiabetesPedigreeFunction\", \"Age\"]].apply(normalize_01)"
   ]
  },
  {
   "cell_type": "code",
   "execution_count": 9,
   "metadata": {},
   "outputs": [],
   "source": [
    "# Add Outcome column: \n",
    "df = df.assign(Outcome = d[\"Outcome\"])"
   ]
  },
  {
   "cell_type": "code",
   "execution_count": 10,
   "metadata": {},
   "outputs": [],
   "source": [
    "# Write a function for training KNN model with a k selected and number of iterations is 30: \n",
    "import numpy as np\n",
    "from sklearn.model_selection import train_test_split\n",
    "from sklearn.neighbors import KNeighborsClassifier\n",
    "\n",
    "def knn_results (k_selected):\n",
    "\n",
    "    my_rep = range(1, 31)\n",
    "    accuracy_test = []\n",
    "    \n",
    "    for i in my_rep: \n",
    "        train, test = train_test_split(df, test_size = 0.3, random_state = i, stratify = df[\"Outcome\"])\n",
    "\n",
    "        X_train = train[train.columns[0:8]]\n",
    "        y_train = train[train.columns[-1]]\n",
    "\n",
    "        X_test = test[test.columns[0:8]]\n",
    "        y_test = test[test.columns[-1]]\n",
    "\n",
    "        X = df[df.columns[0:8]]\n",
    "        Y = df[\"Outcome\"]\n",
    "        \n",
    "        knn = KNeighborsClassifier(n_neighbors = k_selected)\n",
    "        knn.fit(X_train, y_train)\n",
    "        \n",
    "        acc = knn.score(X_test, y_test)\n",
    "        accuracy_test.append(acc)\n",
    "        \n",
    "    m = pd.DataFrame(accuracy_test, columns = [\"Accuracy\"])\n",
    "    m = m.assign(K = np.repeat(k_selected, len(my_rep)))    \n",
    "        \n",
    "    return(m)     "
   ]
  },
  {
   "cell_type": "code",
   "execution_count": 11,
   "metadata": {},
   "outputs": [],
   "source": [
    "# Train KNN with alternative number of neighbors: \n",
    "so_lang_gieng = np.array([1, 3, 5, 7])\n",
    "total_df = pd.DataFrame()\n",
    "\n",
    "for j in so_lang_gieng: \n",
    "    results = knn_results(k_selected = j)\n",
    "    total_df = pd.concat([total_df, results])\n",
    "    "
   ]
  },
  {
   "cell_type": "code",
   "execution_count": 12,
   "metadata": {},
   "outputs": [
    {
     "data": {
      "text/html": [
       "<div>\n",
       "<style scoped>\n",
       "    .dataframe tbody tr th:only-of-type {\n",
       "        vertical-align: middle;\n",
       "    }\n",
       "\n",
       "    .dataframe tbody tr th {\n",
       "        vertical-align: top;\n",
       "    }\n",
       "\n",
       "    .dataframe thead th {\n",
       "        text-align: right;\n",
       "    }\n",
       "</style>\n",
       "<table border=\"1\" class=\"dataframe\">\n",
       "  <thead>\n",
       "    <tr style=\"text-align: right;\">\n",
       "      <th></th>\n",
       "      <th>count</th>\n",
       "      <th>mean</th>\n",
       "      <th>std</th>\n",
       "      <th>min</th>\n",
       "      <th>25%</th>\n",
       "      <th>50%</th>\n",
       "      <th>75%</th>\n",
       "      <th>max</th>\n",
       "    </tr>\n",
       "    <tr>\n",
       "      <th>K</th>\n",
       "      <th></th>\n",
       "      <th></th>\n",
       "      <th></th>\n",
       "      <th></th>\n",
       "      <th></th>\n",
       "      <th></th>\n",
       "      <th></th>\n",
       "      <th></th>\n",
       "    </tr>\n",
       "  </thead>\n",
       "  <tbody>\n",
       "    <tr>\n",
       "      <th>1</th>\n",
       "      <td>30.0</td>\n",
       "      <td>0.697114</td>\n",
       "      <td>0.033329</td>\n",
       "      <td>0.627706</td>\n",
       "      <td>0.676407</td>\n",
       "      <td>0.699134</td>\n",
       "      <td>0.714286</td>\n",
       "      <td>0.757576</td>\n",
       "    </tr>\n",
       "    <tr>\n",
       "      <th>3</th>\n",
       "      <td>30.0</td>\n",
       "      <td>0.737374</td>\n",
       "      <td>0.024550</td>\n",
       "      <td>0.679654</td>\n",
       "      <td>0.722944</td>\n",
       "      <td>0.735931</td>\n",
       "      <td>0.748918</td>\n",
       "      <td>0.796537</td>\n",
       "    </tr>\n",
       "    <tr>\n",
       "      <th>5</th>\n",
       "      <td>30.0</td>\n",
       "      <td>0.749928</td>\n",
       "      <td>0.025208</td>\n",
       "      <td>0.705628</td>\n",
       "      <td>0.731602</td>\n",
       "      <td>0.753247</td>\n",
       "      <td>0.769481</td>\n",
       "      <td>0.805195</td>\n",
       "    </tr>\n",
       "    <tr>\n",
       "      <th>7</th>\n",
       "      <td>30.0</td>\n",
       "      <td>0.752958</td>\n",
       "      <td>0.023352</td>\n",
       "      <td>0.714286</td>\n",
       "      <td>0.735931</td>\n",
       "      <td>0.748918</td>\n",
       "      <td>0.766234</td>\n",
       "      <td>0.800866</td>\n",
       "    </tr>\n",
       "  </tbody>\n",
       "</table>\n",
       "</div>"
      ],
      "text/plain": [
       "   count      mean       std       min       25%       50%       75%       max\n",
       "K                                                                             \n",
       "1   30.0  0.697114  0.033329  0.627706  0.676407  0.699134  0.714286  0.757576\n",
       "3   30.0  0.737374  0.024550  0.679654  0.722944  0.735931  0.748918  0.796537\n",
       "5   30.0  0.749928  0.025208  0.705628  0.731602  0.753247  0.769481  0.805195\n",
       "7   30.0  0.752958  0.023352  0.714286  0.735931  0.748918  0.766234  0.800866"
      ]
     },
     "execution_count": 12,
     "metadata": {},
     "output_type": "execute_result"
    }
   ],
   "source": [
    "# K optimal is 7 as we can see: \n",
    "total_df[\"Accuracy\"].groupby(total_df[\"K\"]).describe()"
   ]
  },
  {
   "cell_type": "code",
   "execution_count": null,
   "metadata": {},
   "outputs": [],
   "source": []
  }
 ],
 "metadata": {
  "kernelspec": {
   "display_name": "Python 3",
   "language": "python",
   "name": "python3"
  },
  "language_info": {
   "codemirror_mode": {
    "name": "ipython",
    "version": 3
   },
   "file_extension": ".py",
   "mimetype": "text/x-python",
   "name": "python",
   "nbconvert_exporter": "python",
   "pygments_lexer": "ipython3",
   "version": "3.6.4"
  }
 },
 "nbformat": 4,
 "nbformat_minor": 2
}
